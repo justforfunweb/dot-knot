{
 "cells": [
  {
   "cell_type": "code",
   "execution_count": 41,
   "metadata": {},
   "outputs": [],
   "source": [
    "# import io, os, sys, types"
   ]
  },
  {
   "cell_type": "code",
   "execution_count": 42,
   "metadata": {},
   "outputs": [],
   "source": [
    "import numpy as np\n",
    "import cv2\n",
    "import matplotlib.pyplot\n",
    "from pandas import *"
   ]
  },
  {
   "cell_type": "code",
   "execution_count": 43,
   "metadata": {},
   "outputs": [],
   "source": [
    "def print_with_spacing(board):\n",
    "    board = np.array(board)\n",
    "    print('\\n'.join(['\\t'.join([str(cell) for cell in row]) for row in board]))"
   ]
  },
  {
   "cell_type": "code",
   "execution_count": 44,
   "metadata": {},
   "outputs": [],
   "source": [
    "def print_with_index(board):\n",
    "    board = np.array(board)\n",
    "    print(DataFrame(board))"
   ]
  },
  {
   "cell_type": "code",
   "execution_count": 45,
   "metadata": {},
   "outputs": [],
   "source": [
    "# Creating the algorithm to find the shortest path and all possible paths \n",
    "# for the dots in the matrix or question board\n",
    "\n",
    "def possible_paths(board , start , end):\n",
    "    pass"
   ]
  },
  {
   "cell_type": "code",
   "execution_count": 46,
   "metadata": {},
   "outputs": [
    {
     "name": "stdout",
     "output_type": "stream",
     "text": [
      "   0  1  2  3  4  5  6  7  8  9\n",
      "0 -1 -1 -1 -1 -1 -1 -1 -1 -1 -1\n",
      "1 -1 -1 -1 -1 -1 -1 -1 -1 -1 -1\n",
      "2 -1 -1 -1 -1 -1 -1 -1 -1 -1 -1\n",
      "3 -1 -1 -1 -1 -1 -1 -1 -1 -1 -1\n",
      "4 -1 -1 -1 -1 -1 -1 -1 -1 -1 -1\n",
      "\n",
      "-1\t-1\t-1\t-1\t-1\t-1\t-1\t-1\t-1\t-1\n",
      "-1\t-1\t-1\t-1\t-1\t-1\t-1\t-1\t-1\t-1\n",
      "-1\t-1\t-1\t-1\t-1\t-1\t-1\t-1\t-1\t-1\n",
      "-1\t-1\t-1\t-1\t-1\t-1\t-1\t-1\t-1\t-1\n",
      "-1\t-1\t-1\t-1\t-1\t-1\t-1\t-1\t-1\t-1\n"
     ]
    }
   ],
   "source": [
    "board = [[-1]*10]*5\n",
    "\n",
    "print_with_index(board)\n",
    "print()\n",
    "print_with_spacing(board)"
   ]
  },
  {
   "cell_type": "code",
   "execution_count": 47,
   "metadata": {},
   "outputs": [],
   "source": [
    "from gridGenerator import *"
   ]
  },
  {
   "cell_type": "code",
   "execution_count": 48,
   "metadata": {},
   "outputs": [
    {
     "ename": "NameError",
     "evalue": "name 'make_empty_grid' is not defined",
     "output_type": "error",
     "traceback": [
      "\u001b[1;31m---------------------------------------------------------------------------\u001b[0m",
      "\u001b[1;31mNameError\u001b[0m                                 Traceback (most recent call last)",
      "Cell \u001b[1;32mIn[48], line 1\u001b[0m\n\u001b[1;32m----> 1\u001b[0m \u001b[39mprint\u001b[39m(make_empty_grid(\u001b[39m1\u001b[39m,\u001b[39m10\u001b[39m))\n",
      "\u001b[1;31mNameError\u001b[0m: name 'make_empty_grid' is not defined"
     ]
    }
   ],
   "source": [
    "print(make_empty_grid(1,10))"
   ]
  }
 ],
 "metadata": {
  "kernelspec": {
   "display_name": "Python 3",
   "language": "python",
   "name": "python3"
  },
  "language_info": {
   "codemirror_mode": {
    "name": "ipython",
    "version": 3
   },
   "file_extension": ".py",
   "mimetype": "text/x-python",
   "name": "python",
   "nbconvert_exporter": "python",
   "pygments_lexer": "ipython3",
   "version": "3.11.1"
  },
  "orig_nbformat": 4,
  "vscode": {
   "interpreter": {
    "hash": "ebfc0a8d552866b0d59eba665220a57de3bc06f3ac643b8bef38dd8f66781fdd"
   }
  }
 },
 "nbformat": 4,
 "nbformat_minor": 2
}
