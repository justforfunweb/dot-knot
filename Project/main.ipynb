{
 "cells": [
  {
   "cell_type": "code",
   "execution_count": 140,
   "metadata": {},
   "outputs": [],
   "source": [
    "# import io, os, sys, types"
   ]
  },
  {
   "cell_type": "code",
   "execution_count": 141,
   "metadata": {},
   "outputs": [],
   "source": [
    "import numpy as np\n",
    "import cv2\n",
    "import matplotlib.pyplot\n",
    "from pandas import *"
   ]
  },
  {
   "cell_type": "code",
   "execution_count": 142,
   "metadata": {},
   "outputs": [],
   "source": [
    "def print_with_spacing(board):\n",
    "    board = np.array(board)\n",
    "    print('\\n'.join(['\\t'.join([str(cell) for cell in row]) for row in board]))"
   ]
  },
  {
   "cell_type": "code",
   "execution_count": 143,
   "metadata": {},
   "outputs": [],
   "source": [
    "def print_with_index(board):\n",
    "    board = np.array(board)\n",
    "    print(DataFrame(board))"
   ]
  },
  {
   "cell_type": "code",
   "execution_count": 144,
   "metadata": {},
   "outputs": [],
   "source": [
    "# Creating the algorithm to find the shortest path and all possible paths \n",
    "# for the dots in the matrix or question board\n",
    "\n",
    "def possible_paths(board , start , end):\n",
    "    pass"
   ]
  },
  {
   "cell_type": "code",
   "execution_count": 145,
   "metadata": {},
   "outputs": [
    {
     "name": "stdout",
     "output_type": "stream",
     "text": [
      "   0  1  2  3  4  5  6  7  8  9\n",
      "0 -1 -1 -1 -1 -1 -1 -1 -1 -1 -1\n",
      "1 -1 -1 -1 -1 -1 -1 -1 -1 -1 -1\n",
      "2 -1 -1 -1 -1 -1 -1 -1 -1 -1 -1\n",
      "3 -1 -1 -1 -1 -1 -1 -1 -1 -1 -1\n",
      "4 -1 -1 -1 -1 -1 -1 -1 -1 -1 -1\n",
      "\n",
      "-1\t-1\t-1\t-1\t-1\t-1\t-1\t-1\t-1\t-1\n",
      "-1\t-1\t-1\t-1\t-1\t-1\t-1\t-1\t-1\t-1\n",
      "-1\t-1\t-1\t-1\t-1\t-1\t-1\t-1\t-1\t-1\n",
      "-1\t-1\t-1\t-1\t-1\t-1\t-1\t-1\t-1\t-1\n",
      "-1\t-1\t-1\t-1\t-1\t-1\t-1\t-1\t-1\t-1\n"
     ]
    }
   ],
   "source": [
    "board = [[-1]*10]*5\n",
    "\n",
    "print_with_index(board)\n",
    "print()\n",
    "print_with_spacing(board)"
   ]
  },
  {
   "cell_type": "code",
   "execution_count": 146,
   "metadata": {},
   "outputs": [
    {
     "name": "stdout",
     "output_type": "stream",
     "text": [
      "\n",
      "[[-1 -1 -1]\n",
      " [-1 -1 -1]\n",
      " [-1 -1 -1]\n",
      " [-1 -1 -1]]\n",
      "\n",
      "[[-1 -1 -1 -1 -1]\n",
      " [-1 -1 -1 -1 -1]\n",
      " [-1 -1 -1 -1 -1]\n",
      " [-1 -1 -1 -1 -1]\n",
      " [-1 -1 -1 -1 -1]]\n",
      "\n",
      "[[-1 -1 -1]\n",
      " [-1 -1 -1]\n",
      " [-1 -1 -1]]\n",
      "\n",
      "[[-1 -1 -1 -1 -1 -1 -1 -1]\n",
      " [-1 -1 -1 -1 -1 -1 -1 -1]\n",
      " [-1 -1 -1 -1 -1 -1 -1 -1]\n",
      " [-1 -1 -1 -1 -1 -1 -1 -1]\n",
      " [-1 -1 -1 -1 -1 -1 -1 -1]\n",
      " [-1 -1 -1 -1 -1 -1 -1 -1]]\n"
     ]
    }
   ],
   "source": [
    "# print(makeGrid())\n",
    "\n",
    "for i in range(4):\n",
    "    print()\n",
    "    print(makeGrid())"
   ]
  }
 ],
 "metadata": {
  "kernelspec": {
   "display_name": "Python 3",
   "language": "python",
   "name": "python3"
  },
  "language_info": {
   "codemirror_mode": {
    "name": "ipython",
    "version": 3
   },
   "file_extension": ".py",
   "mimetype": "text/x-python",
   "name": "python",
   "nbconvert_exporter": "python",
   "pygments_lexer": "ipython3",
   "version": "3.11.1"
  },
  "orig_nbformat": 4,
  "vscode": {
   "interpreter": {
    "hash": "ebfc0a8d552866b0d59eba665220a57de3bc06f3ac643b8bef38dd8f66781fdd"
   }
  }
 },
 "nbformat": 4,
 "nbformat_minor": 2
}
