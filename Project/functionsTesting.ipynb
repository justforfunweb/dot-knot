{
 "cells": [
  {
   "cell_type": "code",
   "execution_count": 260,
   "metadata": {},
   "outputs": [],
   "source": [
    "from functions import *\n",
    "import random"
   ]
  },
  {
   "cell_type": "code",
   "execution_count": 261,
   "metadata": {},
   "outputs": [],
   "source": [
    "rows = random.randint(3,10)\n",
    "columns = random.randint(3,10)\n",
    "dots = random.randint(1,6)\n",
    "grid = [[]*rows]*columns"
   ]
  },
  {
   "cell_type": "code",
   "execution_count": 262,
   "metadata": {},
   "outputs": [],
   "source": [
    "func = gridFunc(rows , columns , dots , grid)"
   ]
  },
  {
   "cell_type": "code",
   "execution_count": 263,
   "metadata": {},
   "outputs": [
    {
     "name": "stdout",
     "output_type": "stream",
     "text": [
      "[[0 0 0 0 0 0]\n",
      " [0 0 0 0 0 0]\n",
      " [0 0 0 0 0 0]\n",
      " [0 0 0 0 0 0]]\n"
     ]
    }
   ],
   "source": [
    "print(func.generate_blank_gird(rows , columns , 0))"
   ]
  },
  {
   "cell_type": "code",
   "execution_count": 264,
   "metadata": {},
   "outputs": [],
   "source": [
    "# print(func.generate_random_blank_grid(0))"
   ]
  },
  {
   "cell_type": "code",
   "execution_count": 265,
   "metadata": {},
   "outputs": [],
   "source": [
    "grid = func.generate_blank_gird(rows , columns , 0)\n",
    "del func\n",
    "func = gridFunc(rows , columns , dots , grid)"
   ]
  },
  {
   "cell_type": "code",
   "execution_count": 266,
   "metadata": {},
   "outputs": [],
   "source": [
    "# func.print_grid_spacing()"
   ]
  },
  {
   "cell_type": "code",
   "execution_count": 267,
   "metadata": {},
   "outputs": [
    {
     "name": "stdout",
     "output_type": "stream",
     "text": [
      "   0  1  2  3  4  5\n",
      "0  0  0  0  0  0  0\n",
      "1  0  0  0  0  0  0\n",
      "2  0  0  0  0  0  0\n",
      "3  0  0  0  0  0  0\n"
     ]
    }
   ],
   "source": [
    "func.print_grid_dataframe()"
   ]
  },
  {
   "cell_type": "code",
   "execution_count": 268,
   "metadata": {},
   "outputs": [
    {
     "name": "stdout",
     "output_type": "stream",
     "text": [
      "   0  1  2  3  4  5\n",
      "0  0  0  0  0  0  0\n",
      "1  0  0  0  0  0  0\n",
      "2  0  0 -1  0  0  0\n",
      "3  0  0  0  0  0  0\n"
     ]
    }
   ],
   "source": [
    "grid = func.place_dot(grid , 2 , 2 , -1)\n",
    "\n",
    "del func\n",
    "\n",
    "func = gridFunc(rows , columns , dots , grid)\n",
    "\n",
    "func.print_grid_dataframe()"
   ]
  }
 ],
 "metadata": {
  "kernelspec": {
   "display_name": "Python 3",
   "language": "python",
   "name": "python3"
  },
  "language_info": {
   "codemirror_mode": {
    "name": "ipython",
    "version": 3
   },
   "file_extension": ".py",
   "mimetype": "text/x-python",
   "name": "python",
   "nbconvert_exporter": "python",
   "pygments_lexer": "ipython3",
   "version": "3.11.1"
  },
  "orig_nbformat": 4,
  "vscode": {
   "interpreter": {
    "hash": "ebfc0a8d552866b0d59eba665220a57de3bc06f3ac643b8bef38dd8f66781fdd"
   }
  }
 },
 "nbformat": 4,
 "nbformat_minor": 2
}
