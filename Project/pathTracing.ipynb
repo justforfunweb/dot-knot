{
 "cells": [
  {
   "cell_type": "code",
   "execution_count": 410,
   "metadata": {},
   "outputs": [],
   "source": [
    "from functions import *\n",
    "import random\n",
    "from pandas import *\n",
    "import numpy as np"
   ]
  },
  {
   "cell_type": "code",
   "execution_count": 411,
   "metadata": {},
   "outputs": [],
   "source": [
    "rows = random.randint(5,10)\n",
    "columns = random.randint(5,10)\n",
    "dots = 2\n",
    "place_holder = 1"
   ]
  },
  {
   "cell_type": "code",
   "execution_count": 412,
   "metadata": {},
   "outputs": [
    {
     "name": "stdout",
     "output_type": "stream",
     "text": [
      "9 7 2\n"
     ]
    }
   ],
   "source": [
    "print(rows , columns , dots)"
   ]
  },
  {
   "cell_type": "code",
   "execution_count": 413,
   "metadata": {},
   "outputs": [],
   "source": [
    "func = gridFunc(rows , columns , dots)"
   ]
  },
  {
   "cell_type": "code",
   "execution_count": 414,
   "metadata": {},
   "outputs": [],
   "source": [
    "grid = func.generate_blank_gird(rows , columns , 0)"
   ]
  },
  {
   "cell_type": "code",
   "execution_count": 415,
   "metadata": {},
   "outputs": [
    {
     "name": "stdout",
     "output_type": "stream",
     "text": [
      "   0  1  2  3  4  5  6\n",
      "0  0  0  0  0  0  0  0\n",
      "1  0  0  0  0  0  0  0\n",
      "2  0  0  0  0  0  0  0\n",
      "3  0  0  0  0  0  0  0\n",
      "4  0  0  0  0  0  0  0\n",
      "5  0  0  0  0  0  0  0\n",
      "6  0  0  0  0  0  0  0\n",
      "7  0  0  0  0  0  0  0\n",
      "8  0  0  0  0  0  0  0\n"
     ]
    }
   ],
   "source": [
    "func.print_grid_dataframe(grid)"
   ]
  },
  {
   "cell_type": "code",
   "execution_count": 416,
   "metadata": {},
   "outputs": [],
   "source": [
    "# dot_x = random.randint(0 , rows - 1)\n",
    "# dot_y = random.randint(0 , columns - 1)\n",
    "\n",
    "# print(dot_x , dot_y)"
   ]
  },
  {
   "cell_type": "code",
   "execution_count": 417,
   "metadata": {},
   "outputs": [
    {
     "name": "stdout",
     "output_type": "stream",
     "text": [
      "0 3\n",
      "0 6\n"
     ]
    }
   ],
   "source": [
    "for _ in range(dots):\n",
    "    dot_x = random.randint(0 , rows - 1)\n",
    "    dot_y = random.randint(0 , columns - 1)\n",
    "    \n",
    "    print(dot_x , dot_y)\n",
    "    \n",
    "    grid = func.place_dot(grid , dot_x , dot_y , 1)"
   ]
  },
  {
   "cell_type": "code",
   "execution_count": 418,
   "metadata": {},
   "outputs": [
    {
     "name": "stdout",
     "output_type": "stream",
     "text": [
      "   0  1  2  3  4  5  6\n",
      "0  0  0  0  1  0  0  1\n",
      "1  0  0  0  0  0  0  0\n",
      "2  0  0  0  0  0  0  0\n",
      "3  0  0  0  0  0  0  0\n",
      "4  0  0  0  0  0  0  0\n",
      "5  0  0  0  0  0  0  0\n",
      "6  0  0  0  0  0  0  0\n",
      "7  0  0  0  0  0  0  0\n",
      "8  0  0  0  0  0  0  0\n"
     ]
    }
   ],
   "source": [
    "func.print_grid_dataframe(grid)"
   ]
  },
  {
   "cell_type": "code",
   "execution_count": 419,
   "metadata": {},
   "outputs": [],
   "source": [
    "# for _ in range(dots):\n",
    "#     dot_x = random.randint(0,rows-1)\n",
    "#     dot_y = random.randint(0,columns-1)\n",
    "    \n",
    "#     # print(dot_x % rows , dot_y % columns)\n",
    "#     # func.place_dot(grid , dot_x % rows , dot_y % columns , place_holder)\n",
    "    \n",
    "#     print(dot_x , dot_y)\n",
    "    \n",
    "#     grid = func.place_dot(grid , dot_x , dot_y , place_holder)"
   ]
  },
  {
   "cell_type": "code",
   "execution_count": 420,
   "metadata": {},
   "outputs": [],
   "source": [
    "# func.print_grid_dataframe(grid)"
   ]
  }
 ],
 "metadata": {
  "kernelspec": {
   "display_name": "Python 3",
   "language": "python",
   "name": "python3"
  },
  "language_info": {
   "codemirror_mode": {
    "name": "ipython",
    "version": 3
   },
   "file_extension": ".py",
   "mimetype": "text/x-python",
   "name": "python",
   "nbconvert_exporter": "python",
   "pygments_lexer": "ipython3",
   "version": "3.11.1"
  },
  "orig_nbformat": 4,
  "vscode": {
   "interpreter": {
    "hash": "ebfc0a8d552866b0d59eba665220a57de3bc06f3ac643b8bef38dd8f66781fdd"
   }
  }
 },
 "nbformat": 4,
 "nbformat_minor": 2
}
