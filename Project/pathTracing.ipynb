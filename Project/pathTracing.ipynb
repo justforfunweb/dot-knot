{
 "cells": [
  {
   "cell_type": "code",
   "execution_count": 156,
   "metadata": {},
   "outputs": [],
   "source": [
    "from functions import *\n",
    "import random\n",
    "from pandas import *\n",
    "import numpy as np"
   ]
  },
  {
   "cell_type": "code",
   "execution_count": 157,
   "metadata": {},
   "outputs": [],
   "source": [
    "rows = random.randint(5,10)\n",
    "columns = random.randint(5,10)\n",
    "dots = 2\n",
    "grid = []\n",
    "place_holder = 1"
   ]
  },
  {
   "cell_type": "code",
   "execution_count": 158,
   "metadata": {},
   "outputs": [
    {
     "name": "stdout",
     "output_type": "stream",
     "text": [
      "8 6 2 []\n"
     ]
    }
   ],
   "source": [
    "print(rows , columns , dots , grid)"
   ]
  },
  {
   "cell_type": "code",
   "execution_count": 159,
   "metadata": {},
   "outputs": [],
   "source": [
    "func = gridFunc(rows , columns , dots , grid)"
   ]
  },
  {
   "cell_type": "code",
   "execution_count": 160,
   "metadata": {},
   "outputs": [],
   "source": [
    "grid = func.generate_blank_gird(rows , columns , 0)\n",
    "\n",
    "del func\n",
    "\n",
    "func = gridFunc(rows , columns , dots , grid)"
   ]
  },
  {
   "cell_type": "code",
   "execution_count": 161,
   "metadata": {},
   "outputs": [
    {
     "name": "stdout",
     "output_type": "stream",
     "text": [
      "6 3\n"
     ]
    },
    {
     "ename": "IndexError",
     "evalue": "index 6 is out of bounds for axis 0 with size 6",
     "output_type": "error",
     "traceback": [
      "\u001b[1;31m---------------------------------------------------------------------------\u001b[0m",
      "\u001b[1;31mIndexError\u001b[0m                                Traceback (most recent call last)",
      "Cell \u001b[1;32mIn[161], line 7\u001b[0m\n\u001b[0;32m      3\u001b[0m dot_y \u001b[39m=\u001b[39m random\u001b[39m.\u001b[39mrandint(\u001b[39m0\u001b[39m,columns\u001b[39m-\u001b[39m\u001b[39m2\u001b[39m)\n\u001b[0;32m      5\u001b[0m \u001b[39mprint\u001b[39m(dot_x , dot_y)\n\u001b[1;32m----> 7\u001b[0m func\u001b[39m.\u001b[39;49mplace_dot(grid , dot_x , dot_y , place_holder)\n",
      "File \u001b[1;32mc:\\Users\\User\\Desktop\\MAIN\\VS_CODE\\dot-knot\\Project\\functions.py:33\u001b[0m, in \u001b[0;36mgridFunc.place_dot\u001b[1;34m(self, grid, dot_x, dot_y, place_holder)\u001b[0m\n\u001b[0;32m     32\u001b[0m \u001b[39mdef\u001b[39;00m \u001b[39mplace_dot\u001b[39m(\u001b[39mself\u001b[39m , grid : \u001b[39mlist\u001b[39m , dot_x : \u001b[39mint\u001b[39m , dot_y : \u001b[39mint\u001b[39m , place_holder : \u001b[39mint\u001b[39m) \u001b[39m-\u001b[39m\u001b[39m>\u001b[39m \u001b[39mlist\u001b[39m:\n\u001b[1;32m---> 33\u001b[0m     \u001b[39mif\u001b[39;00m(grid[dot_x][dot_y] \u001b[39m==\u001b[39m place_holder):\n\u001b[0;32m     34\u001b[0m         grid[dot_y][dot_x] \u001b[39m=\u001b[39m place_holder\n\u001b[0;32m     35\u001b[0m     \u001b[39melse\u001b[39;00m:\n",
      "\u001b[1;31mIndexError\u001b[0m: index 6 is out of bounds for axis 0 with size 6"
     ]
    }
   ],
   "source": [
    "for _ in range(dots):\n",
    "    dot_x = random.randint(0,rows-2)\n",
    "    dot_y = random.randint(0,columns-2)\n",
    "    \n",
    "    print(dot_x , dot_y)\n",
    "    \n",
    "    func.place_dot(grid , dot_x , dot_y , place_holder)"
   ]
  },
  {
   "cell_type": "code",
   "execution_count": null,
   "metadata": {},
   "outputs": [
    {
     "name": "stdout",
     "output_type": "stream",
     "text": [
      "   0  1  2  3  4  5\n",
      "0  0  0  0  0  0  0\n",
      "1  0  0  0  0  0  1\n",
      "2  0  0  0  0  0  0\n",
      "3  0  0  0  0  0  1\n",
      "4  0  0  0  0  0  0\n",
      "5  0  0  0  0  0  0\n",
      "6  0  0  0  0  0  0\n",
      "7  0  0  0  0  0  0\n",
      "8  0  0  0  0  0  0\n",
      "9  0  0  0  0  0  0\n"
     ]
    }
   ],
   "source": [
    "func.print_grid_dataframe()"
   ]
  },
  {
   "cell_type": "code",
   "execution_count": null,
   "metadata": {},
   "outputs": [],
   "source": []
  }
 ],
 "metadata": {
  "kernelspec": {
   "display_name": "Python 3",
   "language": "python",
   "name": "python3"
  },
  "language_info": {
   "codemirror_mode": {
    "name": "ipython",
    "version": 3
   },
   "file_extension": ".py",
   "mimetype": "text/x-python",
   "name": "python",
   "nbconvert_exporter": "python",
   "pygments_lexer": "ipython3",
   "version": "3.11.1"
  },
  "orig_nbformat": 4,
  "vscode": {
   "interpreter": {
    "hash": "ebfc0a8d552866b0d59eba665220a57de3bc06f3ac643b8bef38dd8f66781fdd"
   }
  }
 },
 "nbformat": 4,
 "nbformat_minor": 2
}
