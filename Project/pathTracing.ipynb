{
 "cells": [
  {
   "cell_type": "code",
   "execution_count": 13,
   "metadata": {},
   "outputs": [],
   "source": [
    "from functions import *\n",
    "import random\n",
    "from pandas import *\n",
    "import numpy as np"
   ]
  },
  {
   "cell_type": "code",
   "execution_count": 14,
   "metadata": {},
   "outputs": [],
   "source": [
    "rows = random.randint(5,10)\n",
    "columns = random.randint(5,10)\n",
    "dots = 2\n",
    "place_holder = 1"
   ]
  },
  {
   "cell_type": "code",
   "execution_count": 15,
   "metadata": {},
   "outputs": [
    {
     "name": "stdout",
     "output_type": "stream",
     "text": [
      "9 9 2\n"
     ]
    }
   ],
   "source": [
    "print(rows , columns , dots)"
   ]
  },
  {
   "cell_type": "code",
   "execution_count": 16,
   "metadata": {},
   "outputs": [],
   "source": [
    "func = gridFunc(rows , columns , dots)"
   ]
  },
  {
   "cell_type": "code",
   "execution_count": 17,
   "metadata": {},
   "outputs": [],
   "source": [
    "grid = func.generate_blank_gird(rows , columns , 0)"
   ]
  },
  {
   "cell_type": "code",
   "execution_count": 18,
   "metadata": {},
   "outputs": [
    {
     "name": "stdout",
     "output_type": "stream",
     "text": [
      "   0  1  2  3  4  5  6  7  8\n",
      "0  0  0  0  0  0  0  0  0  0\n",
      "1  0  0  0  0  0  0  0  0  0\n",
      "2  0  0  0  0  0  0  0  0  0\n",
      "3  0  0  0  0  0  0  0  0  0\n",
      "4  0  0  0  0  0  0  0  0  0\n",
      "5  0  0  0  0  0  0  0  0  0\n",
      "6  0  0  0  0  0  0  0  0  0\n",
      "7  0  0  0  0  0  0  0  0  0\n",
      "8  0  0  0  0  0  0  0  0  0\n"
     ]
    }
   ],
   "source": [
    "func.print_grid_dataframe(grid)"
   ]
  },
  {
   "cell_type": "code",
   "execution_count": 19,
   "metadata": {},
   "outputs": [],
   "source": [
    "# dot_x = random.randint(0 , rows - 1)\n",
    "# dot_y = random.randint(0 , columns - 1)\n",
    "\n",
    "# print(dot_x , dot_y)\n",
    "\n",
    "place_dot_parameters = []"
   ]
  },
  {
   "cell_type": "code",
   "execution_count": 20,
   "metadata": {},
   "outputs": [
    {
     "name": "stdout",
     "output_type": "stream",
     "text": [
      "1 7\n",
      "4 4\n"
     ]
    }
   ],
   "source": [
    "for _ in range(dots):\n",
    "    dot_x = random.randint(0 , rows - 1)\n",
    "    dot_y = random.randint(0 , columns - 1)\n",
    "    \n",
    "    print(dot_x , dot_y)\n",
    "    temp = [dot_x , dot_y]\n",
    "    place_dot_parameters.append(temp)\n",
    "    \n",
    "    grid = func.place_dot(grid , dot_x , dot_y , 1)"
   ]
  },
  {
   "cell_type": "code",
   "execution_count": 21,
   "metadata": {},
   "outputs": [
    {
     "name": "stdout",
     "output_type": "stream",
     "text": [
      "[[1, 7], [4, 4]]\n"
     ]
    }
   ],
   "source": [
    "print(place_dot_parameters)"
   ]
  },
  {
   "cell_type": "code",
   "execution_count": 22,
   "metadata": {},
   "outputs": [
    {
     "name": "stdout",
     "output_type": "stream",
     "text": [
      "   0  1  2  3  4  5  6  7  8\n",
      "0  0  0  0  0  0  0  0  0  0\n",
      "1  0  0  0  0  0  0  0  1  0\n",
      "2  0  0  0  0  0  0  0  0  0\n",
      "3  0  0  0  0  0  0  0  0  0\n",
      "4  0  0  0  0  1  0  0  0  0\n",
      "5  0  0  0  0  0  0  0  0  0\n",
      "6  0  0  0  0  0  0  0  0  0\n",
      "7  0  0  0  0  0  0  0  0  0\n",
      "8  0  0  0  0  0  0  0  0  0\n"
     ]
    }
   ],
   "source": [
    "func.print_grid_dataframe(grid)"
   ]
  },
  {
   "cell_type": "code",
   "execution_count": 23,
   "metadata": {},
   "outputs": [
    {
     "ename": "ValueError",
     "evalue": "The truth value of an array with more than one element is ambiguous. Use a.any() or a.all()",
     "output_type": "error",
     "traceback": [
      "\u001b[1;31m---------------------------------------------------------------------------\u001b[0m",
      "\u001b[1;31mValueError\u001b[0m                                Traceback (most recent call last)",
      "Cell \u001b[1;32mIn[23], line 1\u001b[0m\n\u001b[1;32m----> 1\u001b[0m grid \u001b[39m=\u001b[39m func\u001b[39m.\u001b[39;49mfind_path(grid , place_dot_parameters[\u001b[39m0\u001b[39;49m][\u001b[39m0\u001b[39;49m] , place_dot_parameters[\u001b[39m0\u001b[39;49m][\u001b[39m1\u001b[39;49m] , place_dot_parameters[\u001b[39m1\u001b[39;49m][\u001b[39m0\u001b[39;49m] , place_dot_parameters[\u001b[39m1\u001b[39;49m][\u001b[39m1\u001b[39;49m] , \u001b[39m1\u001b[39;49m)\n",
      "File \u001b[1;32mc:\\Users\\User\\Desktop\\MAIN\\VS_CODE\\dot-knot\\Project\\functions.py:46\u001b[0m, in \u001b[0;36mgridFunc.find_path\u001b[1;34m(self, grid, start_dot_x, start_dot_y, end_dot_x, end_dot_y, place_holder)\u001b[0m\n\u001b[0;32m     43\u001b[0m \u001b[39mif\u001b[39;00m(grid[start_dot_x][start_dot_y] \u001b[39m==\u001b[39m place_holder):\n\u001b[0;32m     44\u001b[0m     grid[start_dot_x][start_dot_y] \u001b[39m=\u001b[39m place_holder\n\u001b[1;32m---> 46\u001b[0m     \u001b[39mif\u001b[39;00m(\u001b[39mself\u001b[39m\u001b[39m.\u001b[39mfind_path(grid , start_dot_x\u001b[39m-\u001b[39m\u001b[39m1\u001b[39m , start_dot_y , end_dot_x , end_dot_y , place_holder) \u001b[39m==\u001b[39m \u001b[39m1\u001b[39m): \u001b[39mreturn\u001b[39;00m \u001b[39m1\u001b[39m\n\u001b[0;32m     47\u001b[0m     \u001b[39mif\u001b[39;00m(\u001b[39mself\u001b[39m\u001b[39m.\u001b[39mfind_path(grid , start_dot_x , start_dot_y\u001b[39m-\u001b[39m\u001b[39m1\u001b[39m , end_dot_x , end_dot_y , place_holder) \u001b[39m==\u001b[39m \u001b[39m1\u001b[39m): \u001b[39mreturn\u001b[39;00m \u001b[39m1\u001b[39m\n\u001b[0;32m     48\u001b[0m     \u001b[39mif\u001b[39;00m(\u001b[39mself\u001b[39m\u001b[39m.\u001b[39mfind_path(grid , start_dot_x\u001b[39m+\u001b[39m\u001b[39m1\u001b[39m , start_dot_y , end_dot_x , end_dot_y , place_holder) \u001b[39m==\u001b[39m \u001b[39m1\u001b[39m): \u001b[39mreturn\u001b[39;00m \u001b[39m1\u001b[39m\n",
      "\u001b[1;31mValueError\u001b[0m: The truth value of an array with more than one element is ambiguous. Use a.any() or a.all()"
     ]
    }
   ],
   "source": [
    "grid = func.find_path(grid , place_dot_parameters[0][0] , place_dot_parameters[0][1] , place_dot_parameters[1][0] , place_dot_parameters[1][1] , 1)"
   ]
  },
  {
   "cell_type": "code",
   "execution_count": null,
   "metadata": {},
   "outputs": [],
   "source": [
    "# for _ in range(dots):\n",
    "#     dot_x = random.randint(0,rows-1)\n",
    "#     dot_y = random.randint(0,columns-1)\n",
    "    \n",
    "#     # print(dot_x % rows , dot_y % columns)\n",
    "#     # func.place_dot(grid , dot_x % rows , dot_y % columns , place_holder)\n",
    "    \n",
    "#     print(dot_x , dot_y)\n",
    "    \n",
    "#     grid = func.place_dot(grid , dot_x , dot_y , place_holder)"
   ]
  },
  {
   "cell_type": "code",
   "execution_count": null,
   "metadata": {},
   "outputs": [],
   "source": [
    "# func.print_grid_dataframe(grid)"
   ]
  }
 ],
 "metadata": {
  "kernelspec": {
   "display_name": "Python 3",
   "language": "python",
   "name": "python3"
  },
  "language_info": {
   "codemirror_mode": {
    "name": "ipython",
    "version": 3
   },
   "file_extension": ".py",
   "mimetype": "text/x-python",
   "name": "python",
   "nbconvert_exporter": "python",
   "pygments_lexer": "ipython3",
   "version": "3.11.1"
  },
  "orig_nbformat": 4,
  "vscode": {
   "interpreter": {
    "hash": "ebfc0a8d552866b0d59eba665220a57de3bc06f3ac643b8bef38dd8f66781fdd"
   }
  }
 },
 "nbformat": 4,
 "nbformat_minor": 2
}
